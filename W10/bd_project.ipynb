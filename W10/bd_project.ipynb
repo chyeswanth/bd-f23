{
 "cells": [
  {
   "cell_type": "markdown",
   "id": "db438ed6-ebae-4471-89bf-c79c8d06f3f0",
   "metadata": {},
   "source": [
    "# A study on the Impact of Reviews on the Quality of Hospitality Education.\n",
    "\n",
    "## Problem Statement :\n",
    "\n",
    "### Our goal is to perform a thorough analysis to assess how reviews from current Hospitality education students affect the perceived quality of the program among prospective students.\n",
    "\n",
    "**Authors:**\n",
    "\n",
    "    Yeswanth Chamarthy\n",
    "    \n",
    "    Keerthi Bai Reddy\n",
    "    \n",
    "    Shiva Krishna Reddy\n",
    "    \n",
    "    Saranya Chintalapati\n",
    "    \n",
    "    Swathi Banna\n",
    "    \n"
   ]
  },
  {
   "cell_type": "code",
   "execution_count": 1,
   "id": "f6fa3c30-991e-4cb7-bcbd-61c141b67587",
   "metadata": {},
   "outputs": [
    {
     "name": "stderr",
     "output_type": "stream",
     "text": [
      "23/11/10 12:21:24 WARN Utils: Your hostname, localhost.localdomain resolves to a loopback address: 127.0.0.1; using 10.21.10.164 instead (on interface eth0)\n",
      "23/11/10 12:21:24 WARN Utils: Set SPARK_LOCAL_IP if you need to bind to another address\n",
      "Setting default log level to \"WARN\".\n",
      "To adjust logging level use sc.setLogLevel(newLevel). For SparkR, use setLogLevel(newLevel).\n",
      "23/11/10 12:21:25 WARN NativeCodeLoader: Unable to load native-hadoop library for your platform... using builtin-java classes where applicable\n"
     ]
    },
    {
     "name": "stdout",
     "output_type": "stream",
     "text": [
      "Spark Session WebUI Port: 4040\n"
     ]
    }
   ],
   "source": [
    "from pyspark.sql import SparkSession;\n",
    "\n",
    "# warehouse_location points to the default location for managed databases and tables\n",
    "from os.path import abspath\n",
    "warehouse_location = abspath('spark-warehouse')\n",
    "\n",
    "spark = SparkSession \\\n",
    "    .builder \\\n",
    "    .master(\"local[*]\") \\\n",
    "    .appName(\"ISM6562 PySpark Tutorials\") \\\n",
    "    .config(\"spark.sql.warehouse.dir\", warehouse_location) \\\n",
    "    .enableHiveSupport() \\\n",
    "    .getOrCreate()\n",
    "\n",
    "\n",
    "# Let's get the SparkContext object. It's the entry point to the Spark API. It's created when you create a sparksession\n",
    "sc = spark.sparkContext\n",
    "\n",
    "# note: If you have multiple spark sessions running (like from a previous notebook you've run), \n",
    "# this spark session webUI will be on a different port than the default (4040). One way to \n",
    "# identify this part is with the following line. If there was only one spark session running, \n",
    "# this will be 4040. If it's higher, it means there are still other spark sesssions still running.\n",
    "spark_session_port = spark.sparkContext.uiWebUrl.split(\":\")[-1]\n",
    "print(\"Spark Session WebUI Port: \" + spark_session_port)"
   ]
  },
  {
   "cell_type": "code",
   "execution_count": 2,
   "id": "95cc86cd-337f-4fd3-8a58-f5f6242e2037",
   "metadata": {},
   "outputs": [
    {
     "data": {
      "text/html": [
       "\n",
       "            <div>\n",
       "                <p><b>SparkSession - hive</b></p>\n",
       "                \n",
       "        <div>\n",
       "            <p><b>SparkContext</b></p>\n",
       "\n",
       "            <p><a href=\"http://linux:4040\">Spark UI</a></p>\n",
       "\n",
       "            <dl>\n",
       "              <dt>Version</dt>\n",
       "                <dd><code>v3.5.0</code></dd>\n",
       "              <dt>Master</dt>\n",
       "                <dd><code>local[*]</code></dd>\n",
       "              <dt>AppName</dt>\n",
       "                <dd><code>ISM6562 PySpark Tutorials</code></dd>\n",
       "            </dl>\n",
       "        </div>\n",
       "        \n",
       "            </div>\n",
       "        "
      ],
      "text/plain": [
       "<pyspark.sql.session.SparkSession at 0x7f4dac04ab90>"
      ]
     },
     "execution_count": 2,
     "metadata": {},
     "output_type": "execute_result"
    }
   ],
   "source": [
    "spark"
   ]
  },
  {
   "cell_type": "markdown",
   "id": "2b012447-e8fd-4f08-8191-2e1dfa4d2403",
   "metadata": {},
   "source": [
    "## Creating Database to import the rating data from csv file"
   ]
  },
  {
   "cell_type": "code",
   "execution_count": 3,
   "id": "ad252471-2020-424b-97ca-6d95106348e3",
   "metadata": {},
   "outputs": [
    {
     "name": "stderr",
     "output_type": "stream",
     "text": [
      "23/11/10 12:21:31 WARN CSVHeaderChecker: Number of column in CSV header is not equal to number of fields in the schema:\n",
      " Header length: 53, schema size: 11\n",
      "CSV file: file:///home/student/Documents/ism6562/bd-f23/W10/data/RMP_yesh.csv\n",
      "                                                                                \r"
     ]
    },
    {
     "name": "stdout",
     "output_type": "stream",
     "text": [
      "+----+-------+-------------+--------------------+-------------------+--------------------+-------+----------------+-------------------+--------------+-----------------+\n",
      "|  id| rmp_id|university_id|     university_name|               name|                 url|reviews|would_take_again|level_of_difficulty|average_rating|average_sentiment|\n",
      "+----+-------+-------------+--------------------+-------------------+--------------------+-------+----------------+-------------------+--------------+-----------------+\n",
      "| 859|1779627|           47|University of Hou...|       Corsi, Aaron|https://www.ratem...|      8|            50.0|                2.0|           5.0|        0.6392089|\n",
      "|1546|2444419|           76|California State ...|               NULL|https://www.ratem...|      5|            80.0|                2.8|           5.0|        0.4901624|\n",
      "|  49|2095344|            8| New York University|   Karaburun, Recep|https://www.ratem...|      7|           100.0|                3.0|           5.0|        0.6140048|\n",
      "|  70|2114131|            9|   Boston University|Muller, Christopher|https://www.ratem...|      9|           100.0|                1.6|           5.0|       0.70555127|\n",
      "| 132|2477319|           14|Florida State Uni...|       Dogru, Tarik|https://www.ratem...|      9|           100.0|                2.1|           5.0|        0.4918917|\n",
      "+----+-------+-------------+--------------------+-------------------+--------------------+-------+----------------+-------------------+--------------+-----------------+\n",
      "only showing top 5 rows\n",
      "\n"
     ]
    }
   ],
   "source": [
    "from pyspark.sql.types import StructType, StructField, IntegerType, StringType, DateType, FloatType\n",
    "# see here for more info on the schema: https://spark.apache.org/docs/latest/sql-programming-guide.html#inferring-the-schema-using-reflection\n",
    "# and here https://sparkbyexamples.com/pyspark/pyspark-sql-types-datatype-with-examples/\n",
    "\n",
    "schema = StructType([\n",
    "    StructField(\"id\", IntegerType(), True),\n",
    "    StructField(\"rmp_id\", IntegerType(), True),\n",
    "    StructField(\"university_id\", IntegerType(), True),\n",
    "    StructField(\"university_name\", StringType(), True),\n",
    "    StructField(\"name\", StringType(), True),\n",
    "     StructField(\"url\", StringType(), True),\n",
    "    StructField(\"reviews\", IntegerType(), True),\n",
    "    StructField(\"would_take_again\", FloatType(), True),\n",
    "    StructField(\"level_of_difficulty\", FloatType(), True),\n",
    "    StructField(\"average_rating\", FloatType(), True),\n",
    "    StructField(\"average_sentiment\", FloatType(), True),\n",
    "    ])\n",
    "\n",
    "rmp = spark.read.csv('data/RMP_yesh.csv', header=True, schema=schema)\n",
    "\n",
    "# display the first 5 rows of the dataframe\n",
    "rmp.show(5)"
   ]
  },
  {
   "cell_type": "code",
   "execution_count": 4,
   "id": "fb93862c-e088-4d7c-a44e-085b7a4c98d5",
   "metadata": {},
   "outputs": [
    {
     "name": "stderr",
     "output_type": "stream",
     "text": [
      "23/11/10 12:21:33 WARN HiveConf: HiveConf of name hive.stats.jdbc.timeout does not exist\n",
      "23/11/10 12:21:33 WARN HiveConf: HiveConf of name hive.stats.retries.wait does not exist\n",
      "23/11/10 12:21:36 WARN ObjectStore: Version information not found in metastore. hive.metastore.schema.verification is not enabled so recording the schema version 2.3.0\n",
      "23/11/10 12:21:36 WARN ObjectStore: setMetaStoreSchemaVersion called but recording version is disabled: version = 2.3.0, comment = Set by MetaStore student@127.0.0.1\n",
      "23/11/10 12:21:36 WARN ObjectStore: Failed to get database global_temp, returning NoSuchObjectException\n",
      "23/11/10 12:21:39 WARN CSVHeaderChecker: Number of column in CSV header is not equal to number of fields in the schema:\n",
      " Header length: 53, schema size: 11\n",
      "CSV file: file:///home/student/Documents/ism6562/bd-f23/W10/data/RMP_yesh.csv\n",
      "23/11/10 12:21:40 WARN SessionState: METASTORE_FILTER_HOOK will be ignored, since hive.security.authorization.manager is set to instance of HiveAuthorizerFactory.\n",
      "23/11/10 12:21:40 WARN HiveConf: HiveConf of name hive.internal.ss.authz.settings.applied.marker does not exist\n",
      "23/11/10 12:21:40 WARN HiveConf: HiveConf of name hive.stats.jdbc.timeout does not exist\n",
      "23/11/10 12:21:40 WARN HiveConf: HiveConf of name hive.stats.retries.wait does not exist\n"
     ]
    }
   ],
   "source": [
    "rmp.write.saveAsTable(\"rmp\", mode='overwrite')"
   ]
  },
  {
   "cell_type": "code",
   "execution_count": 5,
   "id": "deec12d3-56de-4ff9-b600-90f5c68ec518",
   "metadata": {},
   "outputs": [],
   "source": [
    "#rmp.createOrReplaceTempView(\"rmp_yesh_csv\")"
   ]
  },
  {
   "cell_type": "code",
   "execution_count": 6,
   "id": "9a4f8ea5-7929-46b2-928f-127c3eefcd25",
   "metadata": {},
   "outputs": [],
   "source": [
    "#%%sparksql\n",
    "#select * from movieratings limit 10"
   ]
  },
  {
   "cell_type": "code",
   "execution_count": 7,
   "id": "677f3cf8-7702-4e32-a5a3-768669e393cf",
   "metadata": {},
   "outputs": [],
   "source": [
    "dfRating = spark.table('rmp')"
   ]
  },
  {
   "cell_type": "code",
   "execution_count": 8,
   "id": "3593ab3f-76f2-46a7-a93b-c423d708ab54",
   "metadata": {},
   "outputs": [
    {
     "name": "stdout",
     "output_type": "stream",
     "text": [
      "+---------+------------+-----------+\n",
      "|namespace|   tableName|isTemporary|\n",
      "+---------+------------+-----------+\n",
      "|  default|fake_friends|      false|\n",
      "|  default|         rmp|      false|\n",
      "|  default|    rmp_yesh|      false|\n",
      "+---------+------------+-----------+\n",
      "\n"
     ]
    }
   ],
   "source": [
    "spark.sql(\"show tables\").show()"
   ]
  },
  {
   "cell_type": "code",
   "execution_count": 9,
   "id": "635f115c-f31d-4b7b-ae79-50c760ad2f97",
   "metadata": {},
   "outputs": [
    {
     "name": "stdout",
     "output_type": "stream",
     "text": [
      "root\n",
      " |-- id: integer (nullable = true)\n",
      " |-- rmp_id: integer (nullable = true)\n",
      " |-- university_id: integer (nullable = true)\n",
      " |-- university_name: string (nullable = true)\n",
      " |-- name: string (nullable = true)\n",
      " |-- url: string (nullable = true)\n",
      " |-- reviews: integer (nullable = true)\n",
      " |-- would_take_again: float (nullable = true)\n",
      " |-- level_of_difficulty: float (nullable = true)\n",
      " |-- average_rating: float (nullable = true)\n",
      " |-- average_sentiment: float (nullable = true)\n",
      "\n"
     ]
    }
   ],
   "source": [
    "dfRating.printSchema()"
   ]
  },
  {
   "cell_type": "code",
   "execution_count": 65,
   "id": "5224302c-c6d8-435b-a499-796c5bc72294",
   "metadata": {},
   "outputs": [
    {
     "name": "stdout",
     "output_type": "stream",
     "text": [
      "+-------+----------------+-------------------+--------------+-----------------+\n",
      "|reviews|would_take_again|level_of_difficulty|average_rating|average_sentiment|\n",
      "+-------+----------------+-------------------+--------------+-----------------+\n",
      "|      8|            50.0|                2.0|           5.0|        0.6392089|\n",
      "|      5|            80.0|                2.8|           5.0|        0.4901624|\n",
      "|      7|           100.0|                3.0|           5.0|        0.6140048|\n",
      "|      9|           100.0|                1.6|           5.0|       0.70555127|\n",
      "|      9|           100.0|                2.1|           5.0|        0.4918917|\n",
      "|      5|           100.0|                2.2|           5.0|        0.4223454|\n",
      "|      5|           100.0|                1.4|           5.0|       0.61469835|\n",
      "|     21|           100.0|                1.5|           5.0|        0.5472863|\n",
      "|     10|           100.0|                2.4|           5.0|        0.5222977|\n",
      "|      6|           100.0|                2.0|           5.0|       0.46028098|\n",
      "+-------+----------------+-------------------+--------------+-----------------+\n",
      "only showing top 10 rows\n",
      "\n"
     ]
    }
   ],
   "source": [
    "df = spark.sql(\"SELECT  reviews,would_take_again, level_of_difficulty, average_rating, average_sentiment FROM rmp WHERE would_take_again IS NOT NULL\")\n",
    "df.show(10)"
   ]
  },
  {
   "cell_type": "code",
   "execution_count": 67,
   "id": "2e0a73a9-0711-4758-8307-0c522db95dad",
   "metadata": {},
   "outputs": [],
   "source": [
    "x = df.describe()"
   ]
  },
  {
   "cell_type": "markdown",
   "id": "8a4eb9e1-3e37-4590-b16c-3dada7c40905",
   "metadata": {},
   "source": [
    "## Descriptive Statistics of the data"
   ]
  },
  {
   "cell_type": "code",
   "execution_count": 68,
   "id": "3085abae-b5d2-4bf1-b20b-c33d473c4960",
   "metadata": {},
   "outputs": [
    {
     "name": "stderr",
     "output_type": "stream",
     "text": [
      "23/11/10 12:33:17 WARN SparkStringUtils: Truncated the string representation of a plan since it was too large. This behavior can be adjusted by setting 'spark.sql.debug.maxToStringFields'.\n"
     ]
    },
    {
     "name": "stdout",
     "output_type": "stream",
     "text": [
      "+-------+-----------------+------------------+-------------------+------------------+-------------------+\n",
      "|summary|          reviews|  would_take_again|level_of_difficulty|    average_rating|  average_sentiment|\n",
      "+-------+-----------------+------------------+-------------------+------------------+-------------------+\n",
      "|  count|              766|               766|                766|               766|                766|\n",
      "|   mean|22.24804177545692| 77.35509138381201|  2.615013053927658|3.9349869502119854| 0.3633880384130204|\n",
      "| stddev|29.36056828497283|25.479131923721592| 0.7836376968232751|0.8172025998305605|0.22393552554219295|\n",
      "|    min|                5|               7.0|                1.0|               1.4|         -0.3364033|\n",
      "|    max|              454|             100.0|                4.9|               5.0|          1.0497341|\n",
      "+-------+-----------------+------------------+-------------------+------------------+-------------------+\n",
      "\n"
     ]
    }
   ],
   "source": [
    "x.show()"
   ]
  },
  {
   "cell_type": "code",
   "execution_count": 73,
   "id": "6663d892-99d7-4791-8e6c-e962f70c2083",
   "metadata": {},
   "outputs": [
    {
     "name": "stdout",
     "output_type": "stream",
     "text": [
      "+--------------------+------------------+-------------------+--------------------+-----------------------+\n",
      "|     university_name|        avg_rating|      avg_sentiment|avg_would_take_again|avg_level_of_difficulty|\n",
      "+--------------------+------------------+-------------------+--------------------+-----------------------+\n",
      "|      Fisher College|               5.0| 0.7694866061210632|               100.0|      2.799999952316284|\n",
      "|University of Nor...|               5.0| 0.5111562609672546|               100.0|      2.299999952316284|\n",
      "|University of Ken...| 4.900000095367432| 0.6930010914802551|               100.0|      2.600000023841858|\n",
      "|Northern Michigan...| 4.800000190734863|0.42824894189834595|               100.0|      3.200000047683716|\n",
      "|Saint Leo University| 4.800000190734863| 0.4106598496437073|               100.0|     1.7000000476837158|\n",
      "|    SUNY Morrisville| 4.800000190734863|  0.707730770111084|               100.0|      2.799999952316284|\n",
      "|Morgan State Univ...| 4.800000190734863| 0.6521500945091248|               100.0|     2.1999999284744263|\n",
      "| Stockton University| 4.780000019073486|  0.558339101076126|                96.4|     2.0200000286102293|\n",
      "|University of Neb...| 4.725000023841858| 0.4826571121811867|               92.75|      2.425000011920929|\n",
      "|  Widener University| 4.699999809265137| 0.4051233232021332|               100.0|      2.200000047683716|\n",
      "|   DePaul University|4.6333333651224775| 0.5558035572369894|                88.0|     1.7333333492279053|\n",
      "|Purdue University...| 4.599999904632568| 0.5360177159309387|               100.0|      2.299999952316284|\n",
      "|St. Thomas Univer...| 4.599999904632568| 0.3482813835144043|               100.0|     3.5999999046325684|\n",
      "|Northeastern Stat...| 4.599999904632568| 0.4212418496608734|               100.0|     2.4000000953674316|\n",
      "|   Drexel University|               4.5| 0.4488707631826401|               100.0|     2.8000000715255737|\n",
      "|University of Sou...|               4.5| 0.3962898999452591|               100.0|      2.350000023841858|\n",
      "|University of Ala...| 4.487500011920929| 0.5555358938872814|              88.125|      2.112500011920929|\n",
      "|Ferris State Univ...|4.4750001430511475| 0.3611229732632637|               100.0|     2.6500000059604645|\n",
      "|East Stroudsburg ...| 4.475000023841858| 0.4272149056196213|               100.0|                  2.375|\n",
      "|Florida Atlantic ...| 4.460000038146973| 0.4780065655708313|                89.6|     2.0200000047683715|\n",
      "+--------------------+------------------+-------------------+--------------------+-----------------------+\n",
      "only showing top 20 rows\n",
      "\n"
     ]
    }
   ],
   "source": [
    "df_univ = spark.sql(\"SELECT university_name,AVG(average_rating) AS avg_rating,AVG(average_sentiment) AS avg_sentiment, AVG(would_take_again) AS avg_would_take_again,AVG(level_of_difficulty) AS avg_level_of_difficulty FROM rmp WHERE would_take_again IS NOT NULL GROUP BY university_name ORDER BY avg_rating DESC;\")\n",
    "df_univ.show()"
   ]
  },
  {
   "cell_type": "markdown",
   "id": "46821e13-8039-4132-a4fe-42571c505249",
   "metadata": {},
   "source": [
    "## Data exploration"
   ]
  },
  {
   "cell_type": "code",
   "execution_count": 74,
   "id": "5e34cc29-35f2-4fa6-9f04-e312a3f32c15",
   "metadata": {},
   "outputs": [],
   "source": [
    "import matplotlib.pyplot as plt\n",
    "import pandas as pd"
   ]
  },
  {
   "cell_type": "code",
   "execution_count": 77,
   "id": "21ca6308-6411-404f-bf80-b10c82a6962a",
   "metadata": {},
   "outputs": [],
   "source": [
    "\n",
    "pandas_df = df.toPandas()\n"
   ]
  },
  {
   "cell_type": "markdown",
   "id": "4299c962-5d0b-4616-9be9-70c47ba564b1",
   "metadata": {},
   "source": [
    "### Level of Difficulty Vs Average Rating Plot"
   ]
  },
  {
   "cell_type": "code",
   "execution_count": 78,
   "id": "d10e9f66-9c37-4458-9e52-d6febfd6ec4b",
   "metadata": {},
   "outputs": [
    {
     "data": {
      "image/png": "[encoded data removed]",
      "text/plain": [
       "<Figure size 640x480 with 1 Axes>"
      ]
     },
     "metadata": {},
     "output_type": "display_data"
    }
   ],
   "source": [
    "plt.scatter(pandas_df[\"average_rating\"], pandas_df[\"level_of_difficulty\"])\n",
    "plt.xlabel(\"Average Rating\")\n",
    "plt.ylabel(\"Level of Difficulty\")\n",
    "plt.title(\"Scatter Plot between Average Rating and Level of Difficulty\")\n",
    "plt.show()"
   ]
  },
  {
   "cell_type": "markdown",
   "id": "f6bb3d31-7454-4313-831a-c22fa6aadf3a",
   "metadata": {},
   "source": [
    "### Level of Difficulty Vs Average Sentiment Plot"
   ]
  },
  {
   "cell_type": "code",
   "execution_count": 80,
   "id": "9013038d-b21c-48cb-912f-66ba381ba95d",
   "metadata": {},
   "outputs": [
    {
     "data": {
      "image/png": "[encoded data removed]",
      "text/plain": [
       "<Figure size 640x480 with 1 Axes>"
      ]
     },
     "metadata": {},
     "output_type": "display_data"
    }
   ],
   "source": [
    "plt.scatter(pandas_df[\"average_sentiment\"], pandas_df[\"level_of_difficulty\"])\n",
    "plt.xlabel(\"Average Sentiment\")\n",
    "plt.ylabel(\"Level of Difficulty\")\n",
    "plt.title(\"Scatter Plot between Average Sentiment and Level of Difficulty\")\n",
    "plt.show()"
   ]
  },
  {
   "cell_type": "markdown",
   "id": "2a340ee2-bf25-4cd5-8f97-a474a87261aa",
   "metadata": {},
   "source": [
    "### Level of Difficulty Vs Would Take again Plot"
   ]
  },
  {
   "cell_type": "code",
   "execution_count": 82,
   "id": "dbaabbfe-ced2-4442-8f8b-8aa5f02489b1",
   "metadata": {},
   "outputs": [
    {
     "data": {
      "image/png": "[encoded data removed]",
      "text/plain": [
       "<Figure size 640x480 with 1 Axes>"
      ]
     },
     "metadata": {},
     "output_type": "display_data"
    }
   ],
   "source": [
    "plt.scatter(pandas_df[\"would_take_again\"], pandas_df[\"level_of_difficulty\"])\n",
    "plt.xlabel(\"Would take professor again\")\n",
    "plt.ylabel(\"Level of Difficulty\")\n",
    "plt.title(\"Scatter Plot between will the student take professor again and Level of Difficulty\")\n",
    "plt.show()"
   ]
  },
  {
   "cell_type": "markdown",
   "id": "d209e80b-b730-44f3-8c60-724ae5c048d3",
   "metadata": {},
   "source": [
    "### Would take again Vs Average Rating Plot"
   ]
  },
  {
   "cell_type": "code",
   "execution_count": 83,
   "id": "658df681-fbfe-493a-b75e-0c00c96dfec2",
   "metadata": {},
   "outputs": [
    {
     "data": {
      "image/png": "[encoded data removed]",
      "text/plain": [
       "<Figure size 640x480 with 1 Axes>"
      ]
     },
     "metadata": {},
     "output_type": "display_data"
    }
   ],
   "source": [
    "plt.scatter(pandas_df[\"average_rating\"], pandas_df[\"would_take_again\"])\n",
    "plt.xlabel(\"average_rating\")\n",
    "plt.ylabel(\"would_take_again\")\n",
    "plt.title(\"average_rating and would_take_again\")\n",
    "plt.show()"
   ]
  },
  {
   "cell_type": "markdown",
   "id": "d015562b-34cf-4ba8-834f-d0332c39c6a9",
   "metadata": {},
   "source": [
    "### Query to fetch all the features and labels required for analysis"
   ]
  },
  {
   "cell_type": "code",
   "execution_count": 11,
   "id": "8e94df8b-fa20-4909-bd28-b20952ed499b",
   "metadata": {},
   "outputs": [
    {
     "name": "stdout",
     "output_type": "stream",
     "text": [
      "+-------+----------------+-------------------+--------------+-----------------+\n",
      "|reviews|would_take_again|level_of_difficulty|average_rating|average_sentiment|\n",
      "+-------+----------------+-------------------+--------------+-----------------+\n",
      "|      8|            50.0|                2.0|           5.0|        0.6392089|\n",
      "|      5|            80.0|                2.8|           5.0|        0.4901624|\n",
      "|      7|           100.0|                3.0|           5.0|        0.6140048|\n",
      "|      9|           100.0|                1.6|           5.0|       0.70555127|\n",
      "|      9|           100.0|                2.1|           5.0|        0.4918917|\n",
      "|      5|           100.0|                2.2|           5.0|        0.4223454|\n",
      "|      5|           100.0|                1.4|           5.0|       0.61469835|\n",
      "|     21|           100.0|                1.5|           5.0|        0.5472863|\n",
      "|     10|           100.0|                2.4|           5.0|        0.5222977|\n",
      "|      6|           100.0|                2.0|           5.0|       0.46028098|\n",
      "+-------+----------------+-------------------+--------------+-----------------+\n",
      "only showing top 10 rows\n",
      "\n"
     ]
    }
   ],
   "source": [
    "dfRmp = spark.sql(\"SELECT reviews,would_take_again, level_of_difficulty, average_rating, average_sentiment FROM rmp WHERE would_take_again IS NOT NULL\")\n",
    "dfRmp.show(10)"
   ]
  },
  {
   "cell_type": "markdown",
   "id": "e443a703-8fc3-4018-a34f-3543585da536",
   "metadata": {},
   "source": [
    "## Train-Test data split"
   ]
  },
  {
   "cell_type": "code",
   "execution_count": 12,
   "id": "1c3c7f75-0166-4772-9770-7a6644c9c9c8",
   "metadata": {},
   "outputs": [],
   "source": [
    "train_data,test_data = dfRmp.randomSplit([0.7,0.3]) "
   ]
  },
  {
   "cell_type": "markdown",
   "id": "28f857c8-48df-4797-86f7-2cc71ff8b84f",
   "metadata": {},
   "source": [
    "## Model 1 - Linear Regression"
   ]
  },
  {
   "cell_type": "code",
   "execution_count": 13,
   "id": "272ff926-6a80-4893-9204-8ac9dc290a23",
   "metadata": {},
   "outputs": [
    {
     "name": "stdout",
     "output_type": "stream",
     "text": [
      "+-------+----------------+-------------------+--------------+-----------------+--------------------+\n",
      "|reviews|would_take_again|level_of_difficulty|average_rating|average_sentiment|            features|\n",
      "+-------+----------------+-------------------+--------------+-----------------+--------------------+\n",
      "|      5|            20.0|                2.0|           2.2|       -0.0531862|[2.0,2.2000000476...|\n",
      "|      5|            20.0|                2.8|           1.8|       -0.2490962|[2.79999995231628...|\n",
      "|      5|            20.0|                3.0|           1.8|       -0.2607385|[3.0,1.7999999523...|\n",
      "|      5|            20.0|                4.4|           1.6|       -0.2561384|[4.40000009536743...|\n",
      "|      5|            40.0|                2.8|           2.4|       0.00165878|[2.79999995231628...|\n",
      "|      5|            50.0|                1.3|           3.9|        0.5014638|[1.29999995231628...|\n",
      "|      5|            50.0|                1.4|           4.0|        0.3511074|[1.39999997615814...|\n",
      "|      5|            50.0|                2.0|           2.8|       0.21338588|[2.0,2.7999999523...|\n",
      "|      5|            60.0|                1.8|           3.3|        0.3876698|[1.79999995231628...|\n",
      "|      5|            60.0|                4.0|           4.2|       0.48789105|[4.0,4.1999998092...|\n",
      "|      5|            60.0|                4.4|           3.2|        0.1705814|[4.40000009536743...|\n",
      "|      5|            67.0|                2.6|           4.2|        0.5951844|[2.59999990463256...|\n",
      "|      5|            67.0|                2.8|           3.4|        0.3988932|[2.79999995231628...|\n",
      "|      5|            75.0|                2.4|           4.2|        0.5978388|[2.40000009536743...|\n",
      "|      5|            80.0|                1.6|           3.8|       0.36288086|[1.60000002384185...|\n",
      "|      5|            80.0|                1.6|           4.2|        0.1847428|[1.60000002384185...|\n",
      "|      5|            80.0|                2.4|           3.6|        0.2630027|[2.40000009536743...|\n",
      "|      5|            80.0|                2.4|           4.4|       0.45464447|[2.40000009536743...|\n",
      "|      5|            80.0|                2.8|           3.8|        0.4109537|[2.79999995231628...|\n",
      "|      5|            80.0|                2.8|           4.6|       0.50999653|[2.79999995231628...|\n",
      "+-------+----------------+-------------------+--------------+-----------------+--------------------+\n",
      "only showing top 20 rows\n",
      "\n"
     ]
    }
   ],
   "source": [
    "from pyspark.ml.regression import LinearRegression\n",
    "from pyspark.ml.feature import VectorAssembler\n",
    " \n",
    "# For more on VectorAssembler, see https://spark.apache.org/docs/latest/ml-features.html#vectorassembler \n",
    "dfAssemblerFeature =  VectorAssembler(\n",
    "    inputCols=[\"level_of_difficulty\", \"average_rating\", \"average_sentiment\" , \"reviews\"], \n",
    "    outputCol=\"features\"\n",
    ")\n",
    " \n",
    "train_data  = dfAssemblerFeature.transform(train_data)\n",
    "train_data.show()\n",
    "\n"
   ]
  },
  {
   "cell_type": "code",
   "execution_count": 14,
   "id": "99362b4a-25bb-4ee2-b23b-904f0cc53023",
   "metadata": {},
   "outputs": [
    {
     "name": "stdout",
     "output_type": "stream",
     "text": [
      "+-------+----------------+-------------------+--------------+-----------------+--------------------+\n",
      "|reviews|would_take_again|level_of_difficulty|average_rating|average_sentiment|            features|\n",
      "+-------+----------------+-------------------+--------------+-----------------+--------------------+\n",
      "|      5|            25.0|                2.0|           1.7|       -0.1402001|[2.0,1.7000000476...|\n",
      "|      5|            40.0|                3.8|           3.6|        0.4309989|[3.79999995231628...|\n",
      "|      5|            50.0|                1.8|           4.6|       0.39580613|[1.79999995231628...|\n",
      "|      5|            50.0|                2.2|           3.5|        0.6792593|[2.20000004768371...|\n",
      "|      5|            50.0|                2.4|           4.2|       0.23929182|[2.40000009536743...|\n",
      "|      5|            67.0|                2.8|           4.2|        0.7830478|[2.79999995231628...|\n",
      "|      5|            80.0|                3.4|           4.2|        0.2830622|[3.40000009536743...|\n",
      "|      5|           100.0|                1.2|           5.0|        1.0497341|[1.20000004768371...|\n",
      "|      5|           100.0|                2.0|           4.5|       0.27746725|[2.0,4.5,0.277467...|\n",
      "|      5|           100.0|                2.2|           5.0|        0.4223454|[2.20000004768371...|\n",
      "|      5|           100.0|                2.8|           2.8|       -0.3037996|[2.79999995231628...|\n",
      "|      5|           100.0|                2.8|           4.6|        0.5478058|[2.79999995231628...|\n",
      "|      5|           100.0|                3.2|           3.6|       -0.0043764|[3.20000004768371...|\n",
      "|      5|           100.0|                3.2|           4.1|       0.40096536|[3.20000004768371...|\n",
      "|      5|           100.0|                3.2|           5.0|        0.5963785|[3.20000004768371...|\n",
      "|      5|           100.0|                3.4|           3.3|       0.17498967|[3.40000009536743...|\n",
      "|      5|           100.0|                3.4|           4.9|       0.73726344|[3.40000009536743...|\n",
      "|      5|           100.0|                3.6|           4.9|       0.55436057|[3.59999990463256...|\n",
      "|      5|           100.0|                4.2|           4.7|        0.2911793|[4.19999980926513...|\n",
      "|      6|            34.0|                2.7|           3.6|       0.27074313|[2.70000004768371...|\n",
      "+-------+----------------+-------------------+--------------+-----------------+--------------------+\n",
      "only showing top 20 rows\n",
      "\n"
     ]
    }
   ],
   "source": [
    "test_data = dfAssemblerFeature.transform(test_data)\n",
    "test_data.show()"
   ]
  },
  {
   "cell_type": "code",
   "execution_count": 15,
   "id": "3078ad30-07c2-4aa7-a311-05c19a3440d8",
   "metadata": {},
   "outputs": [
    {
     "name": "stderr",
     "output_type": "stream",
     "text": [
      "23/11/10 12:21:43 WARN Instrumentation: [36e6cbdb] regParam is zero, which might cause numerical instability and overfitting.\n"
     ]
    }
   ],
   "source": [
    "lr_model = LinearRegression(labelCol='would_take_again')\n",
    "fit_model = lr_model.fit(train_data.select(['features','would_take_again']))"
   ]
  },
  {
   "cell_type": "code",
   "execution_count": 16,
   "id": "8d5b702a-31b1-486d-ad4b-6dba6872b5e1",
   "metadata": {},
   "outputs": [
    {
     "name": "stdout",
     "output_type": "stream",
     "text": [
      "+-------+----------------+-------------------+--------------+-----------------+--------------------+------------------+\n",
      "|reviews|would_take_again|level_of_difficulty|average_rating|average_sentiment|            features|        prediction|\n",
      "+-------+----------------+-------------------+--------------+-----------------+--------------------+------------------+\n",
      "|      5|            25.0|                2.0|           1.7|       -0.1402001|[2.0,1.7000000476...|27.478320110830946|\n",
      "|      5|            40.0|                3.8|           3.6|        0.4309989|[3.79999995231628...| 69.57262860811882|\n",
      "|      5|            50.0|                1.8|           4.6|       0.39580613|[1.79999995231628...| 92.23118794423543|\n",
      "|      5|            50.0|                2.2|           3.5|        0.6792593|[2.20000004768371...| 71.64352630553249|\n",
      "|      5|            50.0|                2.4|           4.2|       0.23929182|[2.40000009536743...|  81.8780636166061|\n",
      "|      5|            67.0|                2.8|           4.2|        0.7830478|[2.79999995231628...| 86.27190892668838|\n",
      "|      5|            80.0|                3.4|           4.2|        0.2830622|[3.40000009536743...| 81.07866792226997|\n",
      "|      5|           100.0|                1.2|           5.0|        1.0497341|[1.20000004768371...|107.03964770867185|\n",
      "|      5|           100.0|                2.0|           4.5|       0.27746725|[2.0,4.5,0.277467...| 88.87385001686648|\n",
      "|      5|           100.0|                2.2|           5.0|        0.4223454|[2.20000004768371...|100.22867800271312|\n",
      "|      5|           100.0|                2.8|           2.8|       -0.3037996|[2.79999995231628...| 47.70977482671251|\n",
      "|      5|           100.0|                2.8|           4.6|        0.5478058|[2.79999995231628...| 92.40120223791531|\n",
      "|      5|           100.0|                3.2|           3.6|       -0.0043764|[3.20000004768371...|  66.3878389113873|\n",
      "|      5|           100.0|                3.2|           4.1|       0.40096536|[3.20000004768371...|  80.3139297497262|\n",
      "|      5|           100.0|                3.2|           5.0|        0.5963785|[3.20000004768371...|100.59604600226476|\n",
      "|      5|           100.0|                3.4|           3.3|       0.17498967|[3.40000009536743...| 61.57886680786546|\n",
      "|      5|           100.0|                3.4|           4.9|       0.73726344|[3.40000009536743...| 99.56057661338052|\n",
      "|      5|           100.0|                3.6|           4.9|       0.55436057|[3.59999990463256...|  97.6840258394596|\n",
      "|      5|           100.0|                4.2|           4.7|        0.2911793|[4.19999980926513...| 90.49365902143921|\n",
      "|      6|            34.0|                2.7|           3.6|       0.27074313|[2.70000004768371...| 69.41945272884365|\n",
      "+-------+----------------+-------------------+--------------+-----------------+--------------------+------------------+\n",
      "only showing top 20 rows\n",
      "\n"
     ]
    }
   ],
   "source": [
    "results = fit_model.transform(test_data)\n",
    "results.show()"
   ]
  },
  {
   "cell_type": "code",
   "execution_count": 17,
   "id": "629fe82f-72a6-47f5-a9c7-7835960d028f",
   "metadata": {},
   "outputs": [
    {
     "name": "stdout",
     "output_type": "stream",
     "text": [
      "+----------------+------------------+\n",
      "|would_take_again|        prediction|\n",
      "+----------------+------------------+\n",
      "|            25.0|27.478320110830946|\n",
      "|            40.0| 69.57262860811882|\n",
      "|            50.0| 92.23118794423543|\n",
      "|            50.0| 71.64352630553249|\n",
      "|            50.0|  81.8780636166061|\n",
      "|            67.0| 86.27190892668838|\n",
      "|            80.0| 81.07866792226997|\n",
      "|           100.0|107.03964770867185|\n",
      "|           100.0| 88.87385001686648|\n",
      "|           100.0|100.22867800271312|\n",
      "|           100.0| 47.70977482671251|\n",
      "|           100.0| 92.40120223791531|\n",
      "|           100.0|  66.3878389113873|\n",
      "|           100.0|  80.3139297497262|\n",
      "|           100.0|100.59604600226476|\n",
      "|           100.0| 61.57886680786546|\n",
      "|           100.0| 99.56057661338052|\n",
      "|           100.0|  97.6840258394596|\n",
      "|           100.0| 90.49365902143921|\n",
      "|            34.0| 69.41945272884365|\n",
      "+----------------+------------------+\n",
      "only showing top 20 rows\n",
      "\n"
     ]
    }
   ],
   "source": [
    "results.select(['would_take_again','prediction']).show()"
   ]
  },
  {
   "cell_type": "code",
   "execution_count": 18,
   "id": "5e69cb83-8165-468d-99f1-f67e1db97408",
   "metadata": {},
   "outputs": [],
   "source": [
    "test_results = fit_model.evaluate(test_data)"
   ]
  },
  {
   "cell_type": "code",
   "execution_count": 19,
   "id": "90bf2df7-1bb6-4e8c-9090-a028c1351456",
   "metadata": {},
   "outputs": [
    {
     "name": "stdout",
     "output_type": "stream",
     "text": [
      "+--------------------+\n",
      "|           residuals|\n",
      "+--------------------+\n",
      "| -2.4783201108309463|\n",
      "|  -29.57262860811882|\n",
      "|  -42.23118794423543|\n",
      "|  -21.64352630553249|\n",
      "|   -31.8780636166061|\n",
      "| -19.271908926688383|\n",
      "| -1.0786679222699718|\n",
      "| -7.0396477086718505|\n",
      "|  11.126149983133516|\n",
      "|-0.22867800271312433|\n",
      "|   52.29022517328749|\n",
      "|   7.598797762084686|\n",
      "|  33.612161088612694|\n",
      "|    19.6860702502738|\n",
      "| -0.5960460022647567|\n",
      "|   38.42113319213454|\n",
      "|   0.439423386619481|\n",
      "|  2.3159741605404065|\n",
      "|   9.506340978560786|\n",
      "|  -35.41945272884365|\n",
      "+--------------------+\n",
      "only showing top 20 rows\n",
      "\n"
     ]
    }
   ],
   "source": [
    "test_results.residuals.show()"
   ]
  },
  {
   "cell_type": "markdown",
   "id": "6f3c0a64-e49e-46ac-8728-28d883481f9f",
   "metadata": {},
   "source": [
    "### Evaluation Metrics for Linear Regression"
   ]
  },
  {
   "cell_type": "code",
   "execution_count": 20,
   "id": "7525ad8c-e950-44fb-9d5d-86c80c8c999a",
   "metadata": {},
   "outputs": [
    {
     "name": "stdout",
     "output_type": "stream",
     "text": [
      "RMSE:    20.582\n",
      "Ex Var: 341.160\n",
      "MAE:     15.191\n",
      "MSE:    423.600\n",
      "RMSE:    20.582\n",
      "R2:       0.330\n"
     ]
    }
   ],
   "source": [
    "print(f\"{'RMSE:':7s} {test_results.rootMeanSquaredError:>7.3f}\")\n",
    "print(f\"{'Ex Var:':7s} {test_results.explainedVariance:>7.3f}\")\n",
    "print(f\"{'MAE:':7s} {test_results.meanAbsoluteError:>7.3f}\")\n",
    "print(f\"{'MSE:':7s} {test_results.meanSquaredError:>7.3f}\")\n",
    "print(f\"{'RMSE:':7s} {test_results.rootMeanSquaredError:>7.3f}\")\n",
    "print(f\"{'R2:':7s} {test_results.r2:>7.3f}\")"
   ]
  },
  {
   "cell_type": "code",
   "execution_count": 21,
   "id": "030843e0-6b73-48af-8ebf-aa686d5925c9",
   "metadata": {},
   "outputs": [],
   "source": [
    "#from pyspark.ml.stat import ChiSquareTest\n",
    "#r = ChiSquareTest.test(dfRmp, \"features\", \"would_take_again\").head()\n",
    " \n",
    "#print(\"pValues: \" + str(r.pValues))\n",
    "#print(\"degreesOfFreedom: \" + str(r.degreesOfFreedom))\n",
    "#print(\"statistics: \" + str(r.statistics))"
   ]
  },
  {
   "cell_type": "code",
   "execution_count": 22,
   "id": "9014a257-6341-49b9-90be-46e698039ad8",
   "metadata": {},
   "outputs": [],
   "source": [
    "# For more information on LinearRegression, see https://spark.apache.org/docs/latest/ml-classification-regression.html#linear-regression\n",
    "#lr = LinearRegression(maxIter=15, featuresCol=\"features\", labelCol=\"would_take_again\", predictionCol=\"prediction\")\n",
    "# Fit the model\n",
    "#lrModel = lr.fit(dfRmp)\n",
    " \n",
    " \n",
    "# Print the coefficients and intercept for linear regression\n",
    "#print(f\"Coefficients: {lrModel.coefficients[0]:.5f}\")\n",
    "#print(f\"Intercept: {lrModel.intercept:.5f}\")\n",
    "\n"
   ]
  },
  {
   "cell_type": "code",
   "execution_count": 23,
   "id": "1a368f92-42bb-4484-989a-1ae4ffbaddc3",
   "metadata": {},
   "outputs": [],
   "source": [
    "#dfRmp = lrModel.transform(dfRmp)\n",
    "#dfRmp.show(100)"
   ]
  },
  {
   "cell_type": "code",
   "execution_count": 24,
   "id": "fac99c51-25d9-4ede-8808-fea1fd96f6da",
   "metadata": {},
   "outputs": [],
   "source": [
    "#trainingSummary = lrModel.summary\n",
    "#print(f\"RMSE: {trainingSummary.rootMeanSquaredError:.4f}\")\n",
    "#print(f\"r2: {trainingSummary.r2:.4f}\")"
   ]
  },
  {
   "cell_type": "markdown",
   "id": "10b21856-cc2d-4182-b4c8-c7be45ea8239",
   "metadata": {},
   "source": [
    "## Model 2 - Decision Tree Regression"
   ]
  },
  {
   "cell_type": "code",
   "execution_count": 25,
   "id": "19c9c365-6586-4209-8d68-fee8a00e902e",
   "metadata": {},
   "outputs": [],
   "source": [
    "from pyspark.ml.regression import DecisionTreeRegressor\n",
    "from pyspark.ml.feature import VectorAssembler, StringIndexer\n",
    "from pyspark.ml import Pipeline\n",
    "from pyspark.ml.evaluation import RegressionEvaluator"
   ]
  },
  {
   "cell_type": "code",
   "execution_count": 26,
   "id": "8ce87f01-796a-433f-b9c9-f368dd477665",
   "metadata": {},
   "outputs": [
    {
     "name": "stdout",
     "output_type": "stream",
     "text": [
      "+-------+----------------+-------------------+--------------+-----------------+\n",
      "|reviews|would_take_again|level_of_difficulty|average_rating|average_sentiment|\n",
      "+-------+----------------+-------------------+--------------+-----------------+\n",
      "|      8|            50.0|                2.0|           5.0|        0.6392089|\n",
      "|      5|            80.0|                2.8|           5.0|        0.4901624|\n",
      "|      7|           100.0|                3.0|           5.0|        0.6140048|\n",
      "|      9|           100.0|                1.6|           5.0|       0.70555127|\n",
      "|      9|           100.0|                2.1|           5.0|        0.4918917|\n",
      "|      5|           100.0|                2.2|           5.0|        0.4223454|\n",
      "|      5|           100.0|                1.4|           5.0|       0.61469835|\n",
      "|     21|           100.0|                1.5|           5.0|        0.5472863|\n",
      "|     10|           100.0|                2.4|           5.0|        0.5222977|\n",
      "|      6|           100.0|                2.0|           5.0|       0.46028098|\n",
      "+-------+----------------+-------------------+--------------+-----------------+\n",
      "only showing top 10 rows\n",
      "\n"
     ]
    }
   ],
   "source": [
    "dfRmp_des = spark.sql(\"SELECT reviews,would_take_again, level_of_difficulty, average_rating, average_sentiment FROM rmp WHERE would_take_again IS NOT NULL\")\n",
    "dfRmp_des.show(10)"
   ]
  },
  {
   "cell_type": "code",
   "execution_count": 27,
   "id": "1bca37f1-8dac-4762-90cf-a47e4718a115",
   "metadata": {},
   "outputs": [],
   "source": [
    "train_data,test_data=dfRmp_des.randomSplit([0.8,0.2])"
   ]
  },
  {
   "cell_type": "code",
   "execution_count": 28,
   "id": "88a403ec-09fe-43f7-8c09-65b74e727146",
   "metadata": {},
   "outputs": [],
   "source": [
    "dfAssemblerFeature =  VectorAssembler(\n",
    "    inputCols=[\"level_of_difficulty\", \"average_rating\", \"average_sentiment\" , \"reviews\"], \n",
    "    outputCol=\"features\"\n",
    ")\n",
    " "
   ]
  },
  {
   "cell_type": "code",
   "execution_count": 29,
   "id": "aa8ca8a7-15b5-44a5-804b-69be09bca4c0",
   "metadata": {},
   "outputs": [],
   "source": [
    "dt_model = DecisionTreeRegressor(labelCol='would_take_again', maxBins=5000)"
   ]
  },
  {
   "cell_type": "code",
   "execution_count": 30,
   "id": "282c95af-ef2b-467d-ba50-e7e829312e12",
   "metadata": {},
   "outputs": [],
   "source": [
    "pipe = Pipeline(\n",
    "    stages=[\n",
    "        dfAssemblerFeature,\n",
    "        dt_model\n",
    "    ]\n",
    ")"
   ]
  },
  {
   "cell_type": "code",
   "execution_count": 31,
   "id": "ffadc10a-9e5d-4ad8-a9b8-eb8f1a044425",
   "metadata": {},
   "outputs": [
    {
     "name": "stderr",
     "output_type": "stream",
     "text": [
      "23/11/10 12:21:45 WARN DecisionTreeMetadata: DecisionTree reducing maxBins from 5000 to 595 (= number of training instances)\n"
     ]
    }
   ],
   "source": [
    "\n",
    "fit_model = pipe.fit(train_data)"
   ]
  },
  {
   "cell_type": "code",
   "execution_count": 32,
   "id": "224c40ae-f47d-4e96-b921-b635b3f63f11",
   "metadata": {},
   "outputs": [],
   "source": [
    "results_dec = fit_model.transform(test_data)"
   ]
  },
  {
   "cell_type": "code",
   "execution_count": 33,
   "id": "e41d902c-68cd-47b5-b49d-d1c41668c288",
   "metadata": {},
   "outputs": [
    {
     "name": "stdout",
     "output_type": "stream",
     "text": [
      "+-------+----------------+-------------------+--------------+-----------------+--------------------+------------------+\n",
      "|reviews|would_take_again|level_of_difficulty|average_rating|average_sentiment|            features|        prediction|\n",
      "+-------+----------------+-------------------+--------------+-----------------+--------------------+------------------+\n",
      "|      5|            50.0|                2.4|           4.2|       0.23929182|[2.40000009536743...| 76.97368421052632|\n",
      "|      5|            60.0|                1.8|           3.3|        0.3876698|[1.79999995231628...| 64.72881355932203|\n",
      "|      5|            67.0|                2.6|           4.2|        0.5951844|[2.59999990463256...|             90.75|\n",
      "|      5|            67.0|                2.8|           3.4|        0.3988932|[2.79999995231628...| 64.72881355932203|\n",
      "|      5|            80.0|                1.6|           3.8|       0.36288086|[1.60000002384185...| 73.02941176470588|\n",
      "|      5|           100.0|                2.0|           3.8|       0.37458444|[2.0,3.7999999523...| 73.02941176470588|\n",
      "|      5|           100.0|                2.2|           4.6|       0.51193786|[2.20000004768371...|            93.104|\n",
      "|      5|           100.0|                2.2|           4.7|       0.52066326|[2.20000004768371...|            93.104|\n",
      "|      5|           100.0|                2.2|           5.0|        0.4223454|[2.20000004768371...|  99.3913043478261|\n",
      "|      5|           100.0|                2.8|           2.8|       -0.3037996|[2.79999995231628...| 64.72881355932203|\n",
      "|      5|           100.0|                3.2|           5.0|        0.5963785|[3.20000004768371...|             100.0|\n",
      "|      5|           100.0|                3.6|           4.9|       0.55436057|[3.59999990463256...|             100.0|\n",
      "|      5|           100.0|                4.2|           4.7|        0.2911793|[4.19999980926513...| 86.94285714285714|\n",
      "|      6|            34.0|                2.7|           3.6|       0.27074313|[2.70000004768371...| 64.72881355932203|\n",
      "|      6|            34.0|                2.8|           2.8|       0.38171458|[2.79999995231628...| 64.72881355932203|\n",
      "|      6|            50.0|                3.2|           2.6|       -0.1639982|[3.20000004768371...|44.083333333333336|\n",
      "|      6|            67.0|                3.2|           4.5|       0.47315407|[3.20000004768371...|            93.104|\n",
      "|      6|            80.0|                2.8|           4.3|       0.27319446|[2.79999995231628...| 86.94285714285714|\n",
      "|      6|           100.0|                2.3|           4.8|       0.59458756|[2.29999995231628...|             100.0|\n",
      "|      6|           100.0|                3.0|           3.9|        0.2569581|[3.0,3.9000000953...| 73.02941176470588|\n",
      "+-------+----------------+-------------------+--------------+-----------------+--------------------+------------------+\n",
      "only showing top 20 rows\n",
      "\n"
     ]
    }
   ],
   "source": [
    "results_dec.show()"
   ]
  },
  {
   "cell_type": "code",
   "execution_count": 34,
   "id": "9e56421a-5568-4743-ad40-332108b78051",
   "metadata": {},
   "outputs": [
    {
     "name": "stdout",
     "output_type": "stream",
     "text": [
      "+----------------+------------------+\n",
      "|would_take_again|        prediction|\n",
      "+----------------+------------------+\n",
      "|            50.0| 76.97368421052632|\n",
      "|            60.0| 64.72881355932203|\n",
      "|            67.0|             90.75|\n",
      "|            67.0| 64.72881355932203|\n",
      "|            80.0| 73.02941176470588|\n",
      "|           100.0| 73.02941176470588|\n",
      "|           100.0|            93.104|\n",
      "|           100.0|            93.104|\n",
      "|           100.0|  99.3913043478261|\n",
      "|           100.0| 64.72881355932203|\n",
      "|           100.0|             100.0|\n",
      "|           100.0|             100.0|\n",
      "|           100.0| 86.94285714285714|\n",
      "|            34.0| 64.72881355932203|\n",
      "|            34.0| 64.72881355932203|\n",
      "|            50.0|44.083333333333336|\n",
      "|            67.0|            93.104|\n",
      "|            80.0| 86.94285714285714|\n",
      "|           100.0|             100.0|\n",
      "|           100.0| 73.02941176470588|\n",
      "+----------------+------------------+\n",
      "only showing top 20 rows\n",
      "\n"
     ]
    }
   ],
   "source": [
    "results_dec.select([\"would_take_again\",\"prediction\"]).show()"
   ]
  },
  {
   "cell_type": "code",
   "execution_count": 35,
   "id": "22c9af12-14b8-4579-9753-c0d9e8b2dada",
   "metadata": {},
   "outputs": [],
   "source": [
    "regression_evaluator = RegressionEvaluator(\n",
    "    labelCol=\"would_take_again\", predictionCol=\"prediction\"\n",
    ")"
   ]
  },
  {
   "cell_type": "markdown",
   "id": "148e09cc-8152-47ca-88ce-3442703f02fb",
   "metadata": {},
   "source": [
    "### Evalaution Metrics - Decsion Tree Regression"
   ]
  },
  {
   "cell_type": "code",
   "execution_count": 36,
   "id": "a5ca6dce-fada-4db9-8b4d-cd4547a6bc91",
   "metadata": {},
   "outputs": [
    {
     "name": "stdout",
     "output_type": "stream",
     "text": [
      "Root Mean Squared Error (RMSE) of the decision tree regressor is 20.549935609644717\n"
     ]
    }
   ],
   "source": [
    "rmse = regression_evaluator.evaluate(results_dec)\n",
    "print(f\"Root Mean Squared Error (RMSE) of the decision tree regressor is {rmse}\")"
   ]
  },
  {
   "cell_type": "code",
   "execution_count": 37,
   "id": "171a2f77-2362-47a0-b9da-77b6cfeefbfd",
   "metadata": {},
   "outputs": [],
   "source": [
    "mae = regression_evaluator.evaluate(results_dec, {regression_evaluator.metricName: 'mae'})\n"
   ]
  },
  {
   "cell_type": "code",
   "execution_count": 38,
   "id": "979950f5-7942-4551-861f-c129385590a5",
   "metadata": {},
   "outputs": [],
   "source": [
    "mse = regression_evaluator.evaluate(results_dec, {regression_evaluator.metricName: 'mse'})\n"
   ]
  },
  {
   "cell_type": "code",
   "execution_count": 39,
   "id": "8aace7e0-ad07-4d16-ad87-954d05804118",
   "metadata": {},
   "outputs": [],
   "source": [
    "r2 = regression_evaluator.evaluate(results_dec, {regression_evaluator.metricName: 'r2'})\n"
   ]
  },
  {
   "cell_type": "code",
   "execution_count": 40,
   "id": "b4f7657b-f330-4e4e-9118-f4327f4c9dce",
   "metadata": {},
   "outputs": [
    {
     "name": "stdout",
     "output_type": "stream",
     "text": [
      "Mean Absolute Error (MAE): 14.869\n",
      "Mean Squared Error (MSE): 422.300\n",
      "R-squared (R2): 0.354\n"
     ]
    }
   ],
   "source": [
    "print(f\"Mean Absolute Error (MAE): {mae:.3f}\")\n",
    "print(f\"Mean Squared Error (MSE): {mse:.3f}\")\n",
    "print(f\"R-squared (R2): {r2:.3f}\")"
   ]
  },
  {
   "cell_type": "markdown",
   "id": "2134f886-00d5-4a94-9027-e43f0a4fb14e",
   "metadata": {},
   "source": [
    "## Model 3 - Gradient Boost Regression"
   ]
  },
  {
   "cell_type": "code",
   "execution_count": 41,
   "id": "2f697757-1555-4d06-a2c5-6a5b813473f6",
   "metadata": {},
   "outputs": [
    {
     "name": "stdout",
     "output_type": "stream",
     "text": [
      "+-------+----------------+-------------------+--------------+-----------------+\n",
      "|reviews|would_take_again|level_of_difficulty|average_rating|average_sentiment|\n",
      "+-------+----------------+-------------------+--------------+-----------------+\n",
      "|      8|            50.0|                2.0|           5.0|        0.6392089|\n",
      "|      5|            80.0|                2.8|           5.0|        0.4901624|\n",
      "|      7|           100.0|                3.0|           5.0|        0.6140048|\n",
      "|      9|           100.0|                1.6|           5.0|       0.70555127|\n",
      "|      9|           100.0|                2.1|           5.0|        0.4918917|\n",
      "|      5|           100.0|                2.2|           5.0|        0.4223454|\n",
      "|      5|           100.0|                1.4|           5.0|       0.61469835|\n",
      "|     21|           100.0|                1.5|           5.0|        0.5472863|\n",
      "|     10|           100.0|                2.4|           5.0|        0.5222977|\n",
      "|      6|           100.0|                2.0|           5.0|       0.46028098|\n",
      "+-------+----------------+-------------------+--------------+-----------------+\n",
      "only showing top 10 rows\n",
      "\n"
     ]
    }
   ],
   "source": [
    "dfRmp_gbt = spark.sql(\"SELECT reviews,would_take_again, level_of_difficulty, average_rating, average_sentiment FROM rmp WHERE would_take_again IS NOT NULL\")\n",
    "dfRmp_gbt.show(10)"
   ]
  },
  {
   "cell_type": "code",
   "execution_count": 42,
   "id": "d98a0c79-5d8f-4529-ba2b-547e58a00fc8",
   "metadata": {},
   "outputs": [],
   "source": [
    "train_data,test_data=dfRmp_gbt.randomSplit([0.8,0.2])"
   ]
  },
  {
   "cell_type": "code",
   "execution_count": 43,
   "id": "a737aa27-e981-4170-8b38-3ed1cfa2e5d0",
   "metadata": {},
   "outputs": [],
   "source": [
    "from pyspark.ml.regression import GBTRegressor\n",
    "from pyspark.ml.evaluation import RegressionEvaluator\n",
    "from pyspark.ml.feature import VectorAssembler, StringIndexer\n",
    "from pyspark.ml import Pipeline\n"
   ]
  },
  {
   "cell_type": "code",
   "execution_count": 44,
   "id": "bb588706-8873-4e3f-a999-914893984bc8",
   "metadata": {},
   "outputs": [],
   "source": [
    "dfAssemblerFeature =  VectorAssembler(\n",
    "    inputCols=[\"level_of_difficulty\", \"average_rating\", \"average_sentiment\" , \"reviews\"], \n",
    "    outputCol=\"features\"\n",
    ")"
   ]
  },
  {
   "cell_type": "code",
   "execution_count": 45,
   "id": "897d5669-97b5-4dac-9f80-979574020738",
   "metadata": {},
   "outputs": [],
   "source": [
    "gbt_model = GBTRegressor(labelCol='would_take_again', maxBins=5000)"
   ]
  },
  {
   "cell_type": "code",
   "execution_count": 46,
   "id": "efe44f70-b150-431b-bc7a-793a718590cf",
   "metadata": {},
   "outputs": [],
   "source": [
    "pipe = Pipeline(\n",
    "    stages=[\n",
    "        dfAssemblerFeature,\n",
    "        gbt_model\n",
    "    ]\n",
    ")"
   ]
  },
  {
   "cell_type": "code",
   "execution_count": 47,
   "id": "0e9c6ee8-5a58-4bf1-8267-4d915f125866",
   "metadata": {},
   "outputs": [
    {
     "name": "stderr",
     "output_type": "stream",
     "text": [
      "23/11/10 12:21:47 WARN DecisionTreeMetadata: DecisionTree reducing maxBins from 5000 to 621 (= number of training instances)\n"
     ]
    }
   ],
   "source": [
    "fit_model = pipe.fit(train_data)\n",
    "results_gdb = fit_model.transform(test_data)"
   ]
  },
  {
   "cell_type": "code",
   "execution_count": 48,
   "id": "62f85dc1-d424-4bcc-9a17-1707ffca711b",
   "metadata": {},
   "outputs": [
    {
     "name": "stdout",
     "output_type": "stream",
     "text": [
      "+-------+----------------+-------------------+--------------+-----------------+--------------------+------------------+\n",
      "|reviews|would_take_again|level_of_difficulty|average_rating|average_sentiment|            features|        prediction|\n",
      "+-------+----------------+-------------------+--------------+-----------------+--------------------+------------------+\n",
      "|      5|            20.0|                2.0|           2.2|       -0.0531862|[2.0,2.2000000476...|53.334404886437845|\n",
      "|      5|            20.0|                3.0|           1.8|       -0.2607385|[3.0,1.7999999523...|19.929138413420368|\n",
      "|      5|            40.0|                2.8|           2.4|       0.00165878|[2.79999995231628...| 65.25926644437759|\n",
      "|      5|            80.0|                2.4|           3.6|        0.2630027|[2.40000009536743...|51.463172605293714|\n",
      "|      5|            80.0|                2.4|           4.4|       0.45464447|[2.40000009536743...| 94.51145785717884|\n",
      "|      5|           100.0|                1.2|           3.6|          0.28672|[1.20000004768371...| 75.89492658578042|\n",
      "|      5|           100.0|                1.2|           5.0|        1.0497341|[1.20000004768371...| 100.2483436658945|\n",
      "|      5|           100.0|                2.0|           5.0|       0.50605446|[2.0,5.0,0.506054...| 98.02252636433944|\n",
      "|      5|           100.0|                2.2|           5.0|       0.49116668|[2.20000004768371...| 97.62461658401949|\n",
      "|      5|           100.0|                2.4|           4.0|       0.82247114|[2.40000009536743...| 86.72699270177064|\n",
      "|      5|           100.0|                3.2|           4.1|       0.40096536|[3.20000004768371...| 76.62442755322068|\n",
      "|      5|           100.0|                3.2|           4.4|        0.7849203|[3.20000004768371...| 91.92419329477715|\n",
      "|      6|            34.0|                2.7|           2.2|       0.32865795|[2.70000004768371...|16.327714745791976|\n",
      "|      6|            50.0|                2.7|           3.5|       0.20712638|[2.70000004768371...| 65.46813351156094|\n",
      "|      6|           100.0|                1.7|           3.0|       0.06852405|[1.70000004768371...| 68.49793175675477|\n",
      "|      6|           100.0|                3.0|           4.2|        0.6260176|[3.0,4.1999998092...| 84.05334320632748|\n",
      "|      6|           100.0|                3.0|           4.5|        0.5826837|[3.0,4.5,0.582683...| 90.88180669699418|\n",
      "|      6|           100.0|                3.2|           2.8|       0.29545438|[3.20000004768371...| 48.91416812300166|\n",
      "|      6|           100.0|                3.3|           4.7|        0.4897346|[3.29999995231628...| 94.73775907794655|\n",
      "|      7|            20.0|                4.0|           1.8|       -0.0421599|[4.0,1.7999999523...| 40.80496814321309|\n",
      "+-------+----------------+-------------------+--------------+-----------------+--------------------+------------------+\n",
      "only showing top 20 rows\n",
      "\n"
     ]
    }
   ],
   "source": [
    "results_gdb.show()"
   ]
  },
  {
   "cell_type": "code",
   "execution_count": 49,
   "id": "1fd7ae22-af41-4aee-96fb-d1d23d78cea3",
   "metadata": {},
   "outputs": [],
   "source": [
    "evaluator =  RegressionEvaluator(\n",
    "    labelCol=\"would_take_again\", predictionCol=\"prediction\"\n",
    ")"
   ]
  },
  {
   "cell_type": "markdown",
   "id": "1c5b1c25-44f4-4f00-b743-9774818a180d",
   "metadata": {},
   "source": [
    "### Evaluation Metrics - Gradient Boost Regression"
   ]
  },
  {
   "cell_type": "code",
   "execution_count": 50,
   "id": "27a09f77-178a-4af7-97a8-30cc7e2987a0",
   "metadata": {},
   "outputs": [
    {
     "name": "stdout",
     "output_type": "stream",
     "text": [
      "Root Mean Squared Error (RMSE) of the  Gradient Boosted Tree regressor is 21.70320367022308\n"
     ]
    }
   ],
   "source": [
    "rmse = regression_evaluator.evaluate(results_gdb)\n",
    "print(f\"Root Mean Squared Error (RMSE) of the  Gradient Boosted Tree regressor is {rmse}\")"
   ]
  },
  {
   "cell_type": "code",
   "execution_count": 51,
   "id": "0fade3bc-a5cb-48cf-b4b8-12b7c5a1a3f6",
   "metadata": {},
   "outputs": [],
   "source": [
    "mae = evaluator.evaluate(results_gdb, {evaluator.metricName: 'mae'})\n"
   ]
  },
  {
   "cell_type": "code",
   "execution_count": 52,
   "id": "5c5da8f5-bd7e-4a29-8332-d7913866a59a",
   "metadata": {},
   "outputs": [],
   "source": [
    "mse = evaluator.evaluate(results_gdb, {evaluator.metricName: 'mse'})"
   ]
  },
  {
   "cell_type": "code",
   "execution_count": 53,
   "id": "241fbb2c-d860-4927-97a3-5fb3d9b33298",
   "metadata": {},
   "outputs": [],
   "source": [
    "r2 = evaluator.evaluate(results_gdb, {evaluator.metricName: 'r2'})"
   ]
  },
  {
   "cell_type": "code",
   "execution_count": 54,
   "id": "902ae1ef-b735-4e29-8d99-4e594ccc28b6",
   "metadata": {},
   "outputs": [
    {
     "name": "stdout",
     "output_type": "stream",
     "text": [
      "Mean Absolute Error (MAE): 14.923\n",
      "Mean Squared Error (MSE): 471.029\n",
      "R-squared (R2): 0.281\n"
     ]
    }
   ],
   "source": [
    "print(f\"Mean Absolute Error (MAE): {mae:.3f}\")\n",
    "print(f\"Mean Squared Error (MSE): {mse:.3f}\")\n",
    "print(f\"R-squared (R2): {r2:.3f}\")"
   ]
  },
  {
   "cell_type": "markdown",
   "id": "16034768-522a-43aa-a886-5f7221b1368f",
   "metadata": {},
   "source": [
    "## Hyper paraameter tuning and Cross Validation"
   ]
  },
  {
   "cell_type": "code",
   "execution_count": 55,
   "id": "b0688211-3f4a-43f2-99f5-793472607f5c",
   "metadata": {},
   "outputs": [],
   "source": [
    "from pyspark.ml.tuning import ParamGridBuilder, CrossValidator"
   ]
  },
  {
   "cell_type": "code",
   "execution_count": 56,
   "id": "0ddcfec0-0315-43d9-9754-00af8db56a85",
   "metadata": {},
   "outputs": [],
   "source": [
    "# Create a ParamGrid for hyperparameter tuning\n",
    "param_grid = ParamGridBuilder() \\\n",
    "    .addGrid(gbt_model.maxDepth, [5]) \\\n",
    "    .addGrid(gbt_model.maxBins, [32]) \\\n",
    "    .addGrid(gbt_model.minInstancesPerNode, [1]) \\\n",
    "    .addGrid(gbt_model.stepSize, [0.1]) \\\n",
    "    .build()"
   ]
  },
  {
   "cell_type": "code",
   "execution_count": 57,
   "id": "da342b9f-9e46-4feb-b748-158b4be2956a",
   "metadata": {},
   "outputs": [],
   "source": [
    "\n",
    "# Create a CrossValidator with GBTRegressor and the ParamGrid\n",
    "crossval = CrossValidator(estimator=pipe,\n",
    "                          estimatorParamMaps=param_grid,\n",
    "                          evaluator=evaluator,\n",
    "                          numFolds=5)"
   ]
  },
  {
   "cell_type": "code",
   "execution_count": 58,
   "id": "3efd81a0-bc33-4661-8316-352463349f78",
   "metadata": {},
   "outputs": [],
   "source": [
    "cv_model = crossval.fit(train_data)"
   ]
  },
  {
   "cell_type": "code",
   "execution_count": 59,
   "id": "0ce829d4-456f-441d-9aca-7cd20c8adacd",
   "metadata": {},
   "outputs": [],
   "source": [
    "best_model = cv_model.bestModel"
   ]
  },
  {
   "cell_type": "code",
   "execution_count": 60,
   "id": "fc896a9c-a7b0-43c0-8981-e3f4549bcd87",
   "metadata": {},
   "outputs": [],
   "source": [
    "results_tuned = best_model.transform(test_data)\n"
   ]
  },
  {
   "cell_type": "code",
   "execution_count": 61,
   "id": "b1e761c9-8e9a-4c67-95bb-c5a3d1a5152e",
   "metadata": {},
   "outputs": [
    {
     "name": "stdout",
     "output_type": "stream",
     "text": [
      "+-------+----------------+-------------------+--------------+-----------------+--------------------+------------------+\n",
      "|reviews|would_take_again|level_of_difficulty|average_rating|average_sentiment|            features|        prediction|\n",
      "+-------+----------------+-------------------+--------------+-----------------+--------------------+------------------+\n",
      "|      5|            20.0|                2.0|           2.2|       -0.0531862|[2.0,2.2000000476...|  76.4024985206225|\n",
      "|      5|            20.0|                3.0|           1.8|       -0.2607385|[3.0,1.7999999523...|31.434890790582834|\n",
      "|      5|            40.0|                2.8|           2.4|       0.00165878|[2.79999995231628...|61.213913256537936|\n",
      "|      5|            80.0|                2.4|           3.6|        0.2630027|[2.40000009536743...| 83.33061266450568|\n",
      "|      5|            80.0|                2.4|           4.4|       0.45464447|[2.40000009536743...| 87.00910216981087|\n",
      "|      5|           100.0|                1.2|           3.6|          0.28672|[1.20000004768371...|  96.1670269489538|\n",
      "|      5|           100.0|                1.2|           5.0|        1.0497341|[1.20000004768371...|100.17060612700331|\n",
      "|      5|           100.0|                2.0|           5.0|       0.50605446|[2.0,5.0,0.506054...| 99.25997814159166|\n",
      "|      5|           100.0|                2.2|           5.0|       0.49116668|[2.20000004768371...| 98.32153932843408|\n",
      "|      5|           100.0|                2.4|           4.0|       0.82247114|[2.40000009536743...|  81.0981102057262|\n",
      "|      5|           100.0|                3.2|           4.1|       0.40096536|[3.20000004768371...| 79.11665631764232|\n",
      "|      5|           100.0|                3.2|           4.4|        0.7849203|[3.20000004768371...| 89.03954997069411|\n",
      "|      6|            34.0|                2.7|           2.2|       0.32865795|[2.70000004768371...| 47.46160112594778|\n",
      "|      6|            50.0|                2.7|           3.5|       0.20712638|[2.70000004768371...| 62.21545546939142|\n",
      "|      6|           100.0|                1.7|           3.0|       0.06852405|[1.70000004768371...| 63.55896118907074|\n",
      "|      6|           100.0|                3.0|           4.2|        0.6260176|[3.0,4.1999998092...|   84.387692369885|\n",
      "|      6|           100.0|                3.0|           4.5|        0.5826837|[3.0,4.5,0.582683...|  90.2241793250456|\n",
      "|      6|           100.0|                3.2|           2.8|       0.29545438|[3.20000004768371...| 22.15259788946873|\n",
      "|      6|           100.0|                3.3|           4.7|        0.4897346|[3.29999995231628...|  93.5243398117061|\n",
      "|      7|            20.0|                4.0|           1.8|       -0.0421599|[4.0,1.7999999523...|36.701727383668846|\n",
      "+-------+----------------+-------------------+--------------+-----------------+--------------------+------------------+\n",
      "only showing top 20 rows\n",
      "\n"
     ]
    }
   ],
   "source": [
    "results_tuned.show()"
   ]
  },
  {
   "cell_type": "markdown",
   "id": "3307daca-8c43-40f6-8fff-78e56d284017",
   "metadata": {},
   "source": [
    "## Evaluation Metrics after hyper parameter tuning"
   ]
  },
  {
   "cell_type": "code",
   "execution_count": 63,
   "id": "6a7391ca-b983-4ca9-b576-7725f16a1ad6",
   "metadata": {},
   "outputs": [],
   "source": [
    "rmse_tuned = evaluator.evaluate(results_tuned, {evaluator.metricName: 'rmse'})\n",
    "mae_tuned = evaluator.evaluate(results_tuned, {evaluator.metricName: 'mae'})\n",
    "mse_tuned = evaluator.evaluate(results_tuned, {evaluator.metricName: 'mse'})\n",
    "r2_tuned = evaluator.evaluate(results_tuned, {evaluator.metricName: 'r2'})"
   ]
  },
  {
   "cell_type": "code",
   "execution_count": 64,
   "id": "9b5c463a-ee58-48f6-ad29-4a8d58fa4440",
   "metadata": {},
   "outputs": [
    {
     "name": "stdout",
     "output_type": "stream",
     "text": [
      "Tuned Model Metrics:\n",
      "Root Mean Squared Error (RMSE): 20.864\n",
      "Mean Absolute Error (MAE): 14.649\n",
      "Mean Squared Error (MSE): 435.295\n",
      "R-squared (R2): 0.335\n"
     ]
    }
   ],
   "source": [
    "print(\"Tuned Model Metrics:\")\n",
    "print(f\"Root Mean Squared Error (RMSE): {rmse_tuned:.3f}\")\n",
    "print(f\"Mean Absolute Error (MAE): {mae_tuned:.3f}\")\n",
    "print(f\"Mean Squared Error (MSE): {mse_tuned:.3f}\")\n",
    "print(f\"R-squared (R2): {r2_tuned:.3f}\")"
   ]
  }
 ],
 "metadata": {
  "kernelspec": {
   "display_name": "Python 3 (ipykernel)",
   "language": "python",
   "name": "python3"
  },
  "language_info": {
   "codemirror_mode": {
    "name": "ipython",
    "version": 3
   },
   "file_extension": ".py",
   "mimetype": "text/x-python",
   "name": "python",
   "nbconvert_exporter": "python",
   "pygments_lexer": "ipython3",
   "version": "3.10.12"
  }
 },
 "nbformat": 4,
 "nbformat_minor": 5
}
